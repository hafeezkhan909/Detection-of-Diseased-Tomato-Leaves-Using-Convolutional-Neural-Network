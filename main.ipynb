{
  "cells": [
    {
      "cell_type": "markdown",
      "metadata": {
        "id": "view-in-github",
        "colab_type": "text"
      },
      "source": [
        "<a href=\"https://colab.research.google.com/github/hafeezkhan909/Detection-of-Diseased-Tomato-Leaves-Using-Convulation-Neural-Network/blob/master/main.ipynb\" target=\"_parent\"><img src=\"https://colab.research.google.com/assets/colab-badge.svg\" alt=\"Open In Colab\"/></a>"
      ]
    },
    {
      "cell_type": "code",
      "execution_count": null,
      "id": "475bfea6",
      "metadata": {
        "id": "475bfea6",
        "outputId": "f5992582-089a-4f43-a003-98e0a054fc8e"
      },
      "outputs": [
        {
          "name": "stdout",
          "output_type": "stream",
          "text": [
            "Found 2754 images belonging to 2 classes.\n",
            "Found 611 images belonging to 2 classes.\n",
            "Epoch 1/25\n",
            "87/87 [==============================] - 130s 1s/step - loss: 0.8635 - accuracy: 0.7611 - val_loss: 0.0892 - val_accuracy: 0.9689\n",
            "Epoch 2/25\n",
            "87/87 [==============================] - 103s 1s/step - loss: 0.1641 - accuracy: 0.9452 - val_loss: 0.1648 - val_accuracy: 0.9329\n",
            "Epoch 3/25\n",
            "87/87 [==============================] - 114s 1s/step - loss: 0.0944 - accuracy: 0.9644 - val_loss: 0.1476 - val_accuracy: 0.9394\n",
            "Epoch 4/25\n",
            "87/87 [==============================] - 174s 2s/step - loss: 0.0558 - accuracy: 0.9804 - val_loss: 0.1628 - val_accuracy: 0.9313\n",
            "Epoch 5/25\n",
            "87/87 [==============================] - 155s 2s/step - loss: 0.0591 - accuracy: 0.9811 - val_loss: 0.5337 - val_accuracy: 0.8462\n",
            "Epoch 6/25\n",
            "87/87 [==============================] - 110s 1s/step - loss: 0.1234 - accuracy: 0.9517 - val_loss: 0.2679 - val_accuracy: 0.9051\n",
            "Epoch 7/25\n",
            "87/87 [==============================] - 102s 1s/step - loss: 0.0393 - accuracy: 0.9869 - val_loss: 0.3332 - val_accuracy: 0.9051\n",
            "Epoch 8/25\n",
            "87/87 [==============================] - 104s 1s/step - loss: 0.0263 - accuracy: 0.9920 - val_loss: 0.0913 - val_accuracy: 0.9689\n",
            "Epoch 9/25\n",
            "87/87 [==============================] - 103s 1s/step - loss: 0.0395 - accuracy: 0.9851 - val_loss: 0.4255 - val_accuracy: 0.8887\n",
            "Epoch 10/25\n",
            "87/87 [==============================] - 103s 1s/step - loss: 0.0221 - accuracy: 0.9935 - val_loss: 0.0985 - val_accuracy: 0.9673\n",
            "Epoch 11/25\n",
            "87/87 [==============================] - 102s 1s/step - loss: 0.0090 - accuracy: 0.9985 - val_loss: 0.1355 - val_accuracy: 0.9574\n",
            "Epoch 12/25\n",
            "87/87 [==============================] - 103s 1s/step - loss: 0.0178 - accuracy: 0.9942 - val_loss: 0.0672 - val_accuracy: 0.9689\n",
            "Epoch 13/25\n",
            "87/87 [==============================] - 102s 1s/step - loss: 0.0471 - accuracy: 0.9808 - val_loss: 0.1118 - val_accuracy: 0.9542\n",
            "Epoch 14/25\n",
            "87/87 [==============================] - 103s 1s/step - loss: 0.2491 - accuracy: 0.9067 - val_loss: 0.2152 - val_accuracy: 0.9149\n",
            "Epoch 15/25\n",
            "87/87 [==============================] - 115s 1s/step - loss: 0.1350 - accuracy: 0.9481 - val_loss: 0.2830 - val_accuracy: 0.9051\n",
            "Epoch 16/25\n",
            "87/87 [==============================] - 143s 2s/step - loss: 0.1280 - accuracy: 0.9582 - val_loss: 0.2755 - val_accuracy: 0.9313\n",
            "Epoch 17/25\n",
            "87/87 [==============================] - 124s 1s/step - loss: 0.0758 - accuracy: 0.9702 - val_loss: 0.2535 - val_accuracy: 0.9214\n",
            "Epoch 18/25\n",
            "87/87 [==============================] - 121s 1s/step - loss: 0.0532 - accuracy: 0.9793 - val_loss: 0.2774 - val_accuracy: 0.9182\n",
            "Epoch 19/25\n",
            "87/87 [==============================] - 125s 1s/step - loss: 0.0518 - accuracy: 0.9822 - val_loss: 0.1188 - val_accuracy: 0.9640\n",
            "Epoch 20/25\n",
            "87/87 [==============================] - 136s 2s/step - loss: 0.0209 - accuracy: 0.9935 - val_loss: 0.1680 - val_accuracy: 0.9574\n",
            "Epoch 21/25\n",
            "87/87 [==============================] - 136s 2s/step - loss: 0.0182 - accuracy: 0.9938 - val_loss: 0.0785 - val_accuracy: 0.9771\n",
            "Epoch 22/25\n",
            "87/87 [==============================] - 138s 2s/step - loss: 0.0258 - accuracy: 0.9909 - val_loss: 0.0689 - val_accuracy: 0.9689\n",
            "Epoch 23/25\n",
            "87/87 [==============================] - 131s 2s/step - loss: 0.0190 - accuracy: 0.9942 - val_loss: 0.1229 - val_accuracy: 0.9607\n",
            "Epoch 24/25\n",
            "87/87 [==============================] - 127s 1s/step - loss: 0.0077 - accuracy: 0.9967 - val_loss: 0.0417 - val_accuracy: 0.9885\n",
            "Epoch 25/25\n",
            "87/87 [==============================] - 126s 1s/step - loss: 0.0367 - accuracy: 0.9869 - val_loss: 0.1424 - val_accuracy: 0.9542\n"
          ]
        },
        {
          "data": {
            "text/plain": [
              "<tensorflow.python.keras.callbacks.History at 0x2cb75415340>"
            ]
          },
          "execution_count": 1,
          "metadata": {},
          "output_type": "execute_result"
        }
      ],
      "source": [
        "import numpy as np\n",
        "import matplotlib.pyplot as plt\n",
        "import pandas as pd\n",
        "import tensorflow as tf\n",
        "import scipy\n",
        "import keras\n",
        "from keras.models import Sequential\n",
        "from keras.layers import Convolution2D\n",
        "from keras.layers import MaxPooling2D\n",
        "from keras.layers import Flatten\n",
        "from keras.layers import Dense\n",
        "\n",
        "classifier = Sequential()\n",
        " \n",
        "#CNN_Layer1\n",
        "\n",
        "classifier.add(Convolution2D(32,(3,3), input_shape= (256,256,3), activation ='relu'))\n",
        "\n",
        "classifier.add(MaxPooling2D(pool_size = (2,2)))\n",
        "\n",
        "#CNN_Layer2\n",
        "\n",
        "classifier.add(Convolution2D(32,(3,3), activation ='relu'))\n",
        "\n",
        "classifier.add(MaxPooling2D(pool_size = (2,2)))\n",
        "\n",
        "#Flattening\n",
        "\n",
        "classifier.add(Flatten())\n",
        "\n",
        "#NN_Layer1\n",
        "\n",
        "classifier.add(Dense(activation = 'relu',units = 128))\n",
        "\n",
        "#NN_Layer2\n",
        "\n",
        "classifier.add(Dense(activation = 'sigmoid',units = 1))\n",
        "\n",
        "#Compile\n",
        "\n",
        "classifier.compile(optimizer='adam',loss= 'binary_crossentropy', metrics = ['accuracy'])\n",
        "\n",
        "from keras.preprocessing.image import ImageDataGenerator\n",
        "\n",
        "train_datagen = ImageDataGenerator(\n",
        "        rescale=1./255,\n",
        "        shear_range=0.2,\n",
        "        zoom_range=0.2,\n",
        "        horizontal_flip=True)\n",
        "\n",
        "test_datagen = ImageDataGenerator(rescale=1./255)\n",
        "\n",
        "training_set = train_datagen.flow_from_directory(\n",
        "        'dataset/train',\n",
        "        target_size=(256,256),\n",
        "        batch_size=32,\n",
        "        class_mode='binary')\n",
        "\n",
        "test_set = test_datagen.flow_from_directory(\n",
        "        'dataset/test',\n",
        "        target_size=(256,256),\n",
        "        batch_size=32,\n",
        "        class_mode='binary')\n",
        "\n",
        "\n",
        "classifier.fit(x = training_set, validation_data = test_set, epochs = 25)"
      ]
    },
    {
      "cell_type": "code",
      "execution_count": null,
      "id": "8d92e6a6",
      "metadata": {
        "id": "8d92e6a6",
        "outputId": "98422c50-2edc-43a2-9482-15a77e62e297"
      },
      "outputs": [
        {
          "name": "stdout",
          "output_type": "stream",
          "text": [
            "non_healthy_tomato\n"
          ]
        }
      ],
      "source": [
        "import numpy as np\n",
        "from keras.preprocessing import image\n",
        "test_image = image.load_img('dataset\\ce1dd162-881b-4097-89b4-eccee085fbfa___Matt.S_CG 0732.jpg', target_size = (256,256))\n",
        "test_image = image.img_to_array(test_image)\n",
        "test_image = np.expand_dims(test_image, axis = 0)\n",
        "result = classifier.predict(test_image)\n",
        "training_set.class_indices\n",
        "if result[0][0] == 1:\n",
        "  prediction = 'non_healthy_tomato'\n",
        "else:\n",
        "  prediction = 'healthy_tomato'\n",
        "print(prediction)"
      ]
    },
    {
      "cell_type": "code",
      "execution_count": null,
      "id": "3cf3f3cc",
      "metadata": {
        "id": "3cf3f3cc"
      },
      "outputs": [],
      "source": [
        ""
      ]
    }
  ],
  "metadata": {
    "kernelspec": {
      "display_name": "Python 3",
      "language": "python",
      "name": "python3"
    },
    "language_info": {
      "codemirror_mode": {
        "name": "ipython",
        "version": 3
      },
      "file_extension": ".py",
      "mimetype": "text/x-python",
      "name": "python",
      "nbconvert_exporter": "python",
      "pygments_lexer": "ipython3",
      "version": "3.8.8"
    },
    "colab": {
      "name": "main.ipynb",
      "provenance": [],
      "include_colab_link": true
    }
  },
  "nbformat": 4,
  "nbformat_minor": 5
}